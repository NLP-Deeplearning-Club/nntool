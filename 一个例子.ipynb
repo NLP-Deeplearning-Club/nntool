{
 "cells": [
  {
   "cell_type": "code",
   "execution_count": 1,
   "metadata": {
    "collapsed": false
   },
   "outputs": [],
   "source": [
    "from nntool.model import Sequential"
   ]
  },
  {
   "cell_type": "code",
   "execution_count": 2,
   "metadata": {
    "collapsed": true
   },
   "outputs": [],
   "source": [
    "import numpy as np"
   ]
  },
  {
   "cell_type": "code",
   "execution_count": 3,
   "metadata": {
    "collapsed": true
   },
   "outputs": [],
   "source": [
    "s = Sequential()"
   ]
  },
  {
   "cell_type": "code",
   "execution_count": 4,
   "metadata": {
    "collapsed": false
   },
   "outputs": [],
   "source": [
    "from nntool.layer import LinearNeuronLayer,SoftmaxLayer"
   ]
  },
  {
   "cell_type": "code",
   "execution_count": 5,
   "metadata": {
    "collapsed": false,
    "scrolled": false
   },
   "outputs": [],
   "source": [
    "s.add(LinearNeuronLayer(3))"
   ]
  },
  {
   "cell_type": "code",
   "execution_count": 6,
   "metadata": {
    "collapsed": false
   },
   "outputs": [],
   "source": [
    "s.add(SoftmaxLayer())"
   ]
  },
  {
   "cell_type": "code",
   "execution_count": 7,
   "metadata": {
    "collapsed": true
   },
   "outputs": [],
   "source": [
    "from nntool.optimizer import BGDRuner"
   ]
  },
  {
   "cell_type": "code",
   "execution_count": 8,
   "metadata": {
    "collapsed": true
   },
   "outputs": [],
   "source": [
    "from nntool.objective import CrossEntropy"
   ]
  },
  {
   "cell_type": "code",
   "execution_count": 9,
   "metadata": {
    "collapsed": true
   },
   "outputs": [],
   "source": [
    "X = np.array([[0,0,0,0,0,1],[0,2,0,0,0,1],[0,0,3,0,0,1],[0,0,3,5,0,1]])"
   ]
  },
  {
   "cell_type": "code",
   "execution_count": 10,
   "metadata": {
    "collapsed": true
   },
   "outputs": [],
   "source": [
    "y = np.array([[0,0,1],[1,0,0],[0,1,0],[0,1,0]])"
   ]
  },
  {
   "cell_type": "code",
   "execution_count": 13,
   "metadata": {
    "collapsed": false
   },
   "outputs": [],
   "source": [
    "trainer = BGDRuner(X,y,CrossEntropy(),2,0.2)"
   ]
  },
  {
   "cell_type": "code",
   "execution_count": 14,
   "metadata": {
    "collapsed": false,
    "scrolled": true
   },
   "outputs": [
    {
     "name": "stdout",
     "output_type": "stream",
     "text": [
      "epoch 0==============\n",
      "loss:[[ 0.95523236]]\n",
      "epoch 0 end==============\n",
      "epoch 1==============\n",
      "loss:[[ 0.04715206]]\n",
      "epoch 1 end==============\n",
      "epoch 2==============\n",
      "loss:[[ 0.32909046]]\n",
      "epoch 2 end==============\n",
      "epoch 3==============\n",
      "loss:[[ 0.21128194]]\n",
      "epoch 3 end==============\n",
      "epoch 4==============\n",
      "loss:[[ 0.00981555]]\n",
      "epoch 4 end==============\n",
      "epoch 5==============\n",
      "loss:[[ 1.02763462]]\n",
      "epoch 5 end==============\n",
      "epoch 6==============\n",
      "loss:[[ 0.20806437]]\n",
      "epoch 6 end==============\n",
      "epoch 7==============\n",
      "loss:[[ 0.07432422]]\n",
      "epoch 7 end==============\n",
      "epoch 8==============\n",
      "loss:[[ 0.19137402]]\n",
      "epoch 8 end==============\n",
      "epoch 9==============\n",
      "loss:[[ 0.00462575]]\n",
      "epoch 9 end==============\n"
     ]
    }
   ],
   "source": [
    "s.train(trainer)"
   ]
  },
  {
   "cell_type": "code",
   "execution_count": null,
   "metadata": {
    "collapsed": true
   },
   "outputs": [],
   "source": []
  }
 ],
 "metadata": {
  "kernelspec": {
   "display_name": "Python 3",
   "language": "python",
   "name": "python3"
  },
  "language_info": {
   "codemirror_mode": {
    "name": "ipython",
    "version": 3
   },
   "file_extension": ".py",
   "mimetype": "text/x-python",
   "name": "python",
   "nbconvert_exporter": "python",
   "pygments_lexer": "ipython3",
   "version": "3.6.0"
  }
 },
 "nbformat": 4,
 "nbformat_minor": 2
}
