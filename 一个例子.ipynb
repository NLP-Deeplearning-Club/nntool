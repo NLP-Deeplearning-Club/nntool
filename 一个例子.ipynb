{
 "cells": [
  {
   "cell_type": "markdown",
   "metadata": {},
   "source": [
    "# 构建模型\n",
    "\n",
    "本文使用一个例子来讲解nntool.\n",
    "\n",
    "## 多类型分类器\n",
    "\n",
    "最常见的多类型分类器\n",
    "\n",
    "nntool的接口类似keras,使用`Sequential`创建模型对象,之后向其中添加`layer`.\n",
    "\n",
    "这边以iris为例子,使用最简单的softmax直接做预测,效果如下"
   ]
  },
  {
   "cell_type": "code",
   "execution_count": 1,
   "metadata": {
    "collapsed": false
   },
   "outputs": [],
   "source": [
    "from nntool.dataset import Irisloader\n",
    "from nntool.utils import OneHot"
   ]
  },
  {
   "cell_type": "code",
   "execution_count": 2,
   "metadata": {
    "collapsed": false
   },
   "outputs": [],
   "source": [
    "iris = Irisloader.load()"
   ]
  },
  {
   "cell_type": "code",
   "execution_count": 3,
   "metadata": {
    "collapsed": false,
    "scrolled": false
   },
   "outputs": [
    {
     "data": {
      "text/plain": [
       "array([ 4.9,  3. ,  1.4,  0.2])"
      ]
     },
     "execution_count": 3,
     "metadata": {},
     "output_type": "execute_result"
    }
   ],
   "source": [
    "iris.X[1]"
   ]
  },
  {
   "cell_type": "code",
   "execution_count": 4,
   "metadata": {
    "collapsed": false
   },
   "outputs": [
    {
     "data": {
      "text/plain": [
       "150"
      ]
     },
     "execution_count": 4,
     "metadata": {},
     "output_type": "execute_result"
    }
   ],
   "source": [
    "len(list(iris.y))"
   ]
  },
  {
   "cell_type": "code",
   "execution_count": 5,
   "metadata": {
    "collapsed": false
   },
   "outputs": [],
   "source": [
    "iris_type = OneHot(\"iris_type\",iris.y)"
   ]
  },
  {
   "cell_type": "code",
   "execution_count": 6,
   "metadata": {
    "collapsed": true
   },
   "outputs": [],
   "source": [
    "train,dev = iris.randomsplit(0.6)"
   ]
  },
  {
   "cell_type": "code",
   "execution_count": 7,
   "metadata": {
    "collapsed": false
   },
   "outputs": [
    {
     "data": {
      "text/plain": [
       "90"
      ]
     },
     "execution_count": 7,
     "metadata": {},
     "output_type": "execute_result"
    }
   ],
   "source": [
    "train.size"
   ]
  },
  {
   "cell_type": "code",
   "execution_count": 8,
   "metadata": {
    "collapsed": false
   },
   "outputs": [
    {
     "data": {
      "text/plain": [
       "60"
      ]
     },
     "execution_count": 8,
     "metadata": {},
     "output_type": "execute_result"
    }
   ],
   "source": [
    "dev.size"
   ]
  },
  {
   "cell_type": "code",
   "execution_count": 9,
   "metadata": {
    "collapsed": false
   },
   "outputs": [],
   "source": [
    "y = iris_type.encode(train.y)"
   ]
  },
  {
   "cell_type": "code",
   "execution_count": 10,
   "metadata": {
    "collapsed": true
   },
   "outputs": [],
   "source": [
    "X = train.X"
   ]
  },
  {
   "cell_type": "code",
   "execution_count": 11,
   "metadata": {
    "collapsed": false
   },
   "outputs": [],
   "source": [
    "from nntool.model import Sequential\n",
    "from nntool.layer import LinearNeuronLayer,SoftmaxLayer\n",
    "import numpy as np\n",
    "s = Sequential()\n",
    "s.add(LinearNeuronLayer(3))\n",
    "s.add(SoftmaxLayer())"
   ]
  },
  {
   "cell_type": "markdown",
   "metadata": {
    "collapsed": true
   },
   "source": [
    "构建好模型后,需要设定优化方法,目标函数,之后训练才能使用"
   ]
  },
  {
   "cell_type": "code",
   "execution_count": 12,
   "metadata": {
    "collapsed": false,
    "scrolled": true
   },
   "outputs": [
    {
     "name": "stdout",
     "output_type": "stream",
     "text": [
      "epoch 0==============\n",
      "loss:[[ 0.00276585]]\n",
      "epoch 0 end==============\n",
      "epoch 1==============\n",
      "loss:[[ 0.73703117]]\n",
      "epoch 1 end==============\n",
      "epoch 2==============\n",
      "loss:[[ 0.11958271]]\n",
      "epoch 2 end==============\n",
      "epoch 3==============\n",
      "loss:[[ 0.11514092]]\n",
      "epoch 3 end==============\n",
      "epoch 4==============\n",
      "loss:[[ 3.75568153]]\n",
      "epoch 4 end==============\n",
      "epoch 5==============\n",
      "loss:[[ 0.02091651]]\n",
      "epoch 5 end==============\n",
      "epoch 6==============\n",
      "loss:[[ 0.08195238]]\n",
      "epoch 6 end==============\n",
      "epoch 7==============\n",
      "loss:[[ 1.68879315]]\n",
      "epoch 7 end==============\n",
      "epoch 8==============\n",
      "loss:[[ 0.00550409]]\n",
      "epoch 8 end==============\n",
      "epoch 9==============\n",
      "loss:[[ 0.68771399]]\n",
      "epoch 9 end==============\n",
      "epoch 10==============\n",
      "loss:[[ 0.87530214]]\n",
      "epoch 10 end==============\n",
      "epoch 11==============\n",
      "loss:[[ 0.10928696]]\n",
      "epoch 11 end==============\n",
      "epoch 12==============\n",
      "loss:[[ 1.14930463]]\n",
      "epoch 12 end==============\n",
      "epoch 13==============\n",
      "loss:[[ 0.37606255]]\n",
      "epoch 13 end==============\n",
      "epoch 14==============\n",
      "loss:[[ 0.42765273]]\n",
      "epoch 14 end==============\n",
      "epoch 15==============\n",
      "loss:[[ 0.02369005]]\n",
      "epoch 15 end==============\n",
      "epoch 16==============\n",
      "loss:[[ 0.02407003]]\n",
      "epoch 16 end==============\n",
      "epoch 17==============\n",
      "loss:[[ 0.71440843]]\n",
      "epoch 17 end==============\n",
      "epoch 18==============\n",
      "loss:[[ 0.02892709]]\n",
      "epoch 18 end==============\n",
      "epoch 19==============\n",
      "loss:[[ 0.00528572]]\n",
      "epoch 19 end==============\n",
      "epoch 20==============\n",
      "loss:[[ 2.96564152]]\n",
      "epoch 20 end==============\n",
      "epoch 21==============\n",
      "loss:[[ 0.36454497]]\n",
      "epoch 21 end==============\n",
      "epoch 22==============\n",
      "loss:[[ 0.16721178]]\n",
      "epoch 22 end==============\n",
      "epoch 23==============\n",
      "loss:[[ 0.04021896]]\n",
      "epoch 23 end==============\n",
      "epoch 24==============\n",
      "loss:[[ 0.04960552]]\n",
      "epoch 24 end==============\n",
      "epoch 25==============\n",
      "loss:[[ 0.12344323]]\n",
      "epoch 25 end==============\n",
      "epoch 26==============\n",
      "loss:[[ 0.75616643]]\n",
      "epoch 26 end==============\n",
      "epoch 27==============\n",
      "loss:[[ 0.00366083]]\n",
      "epoch 27 end==============\n",
      "epoch 28==============\n",
      "loss:[[ 2.54817555]]\n",
      "epoch 28 end==============\n",
      "epoch 29==============\n",
      "loss:[[ 0.62508467]]\n",
      "epoch 29 end==============\n",
      "epoch 30==============\n",
      "loss:[[ 0.08449091]]\n",
      "epoch 30 end==============\n",
      "epoch 31==============\n",
      "loss:[[ 0.06459361]]\n",
      "epoch 31 end==============\n",
      "epoch 32==============\n",
      "loss:[[ 0.0027924]]\n",
      "epoch 32 end==============\n",
      "epoch 33==============\n",
      "loss:[[ 0.03652176]]\n",
      "epoch 33 end==============\n",
      "epoch 34==============\n",
      "loss:[[ 0.01756553]]\n",
      "epoch 34 end==============\n",
      "epoch 35==============\n",
      "loss:[[ 1.32551464]]\n",
      "epoch 35 end==============\n",
      "epoch 36==============\n",
      "loss:[[ 0.10170196]]\n",
      "epoch 36 end==============\n",
      "epoch 37==============\n",
      "loss:[[ 0.48942164]]\n",
      "epoch 37 end==============\n",
      "epoch 38==============\n",
      "loss:[[ 0.12261693]]\n",
      "epoch 38 end==============\n",
      "epoch 39==============\n",
      "loss:[[ 0.02016855]]\n",
      "epoch 39 end==============\n",
      "epoch 40==============\n",
      "loss:[[ 0.28554702]]\n",
      "epoch 40 end==============\n",
      "epoch 41==============\n",
      "loss:[[ 2.12411029]]\n",
      "epoch 41 end==============\n",
      "epoch 42==============\n",
      "loss:[[ 0.02779081]]\n",
      "epoch 42 end==============\n",
      "epoch 43==============\n",
      "loss:[[ 0.0587855]]\n",
      "epoch 43 end==============\n",
      "epoch 44==============\n",
      "loss:[[ 0.00169145]]\n",
      "epoch 44 end==============\n",
      "epoch 45==============\n",
      "loss:[[ 0.01506431]]\n",
      "epoch 45 end==============\n",
      "epoch 46==============\n",
      "loss:[[ 0.0470444]]\n",
      "epoch 46 end==============\n",
      "epoch 47==============\n",
      "loss:[[ 1.66140655]]\n",
      "epoch 47 end==============\n",
      "epoch 48==============\n",
      "loss:[[ 0.00858536]]\n",
      "epoch 48 end==============\n",
      "epoch 49==============\n",
      "loss:[[ 0.00010582]]\n",
      "epoch 49 end==============\n",
      "epoch 50==============\n",
      "loss:[[ 2.99531238]]\n",
      "epoch 50 end==============\n",
      "epoch 51==============\n",
      "loss:[[ 0.01441715]]\n",
      "epoch 51 end==============\n",
      "epoch 52==============\n",
      "loss:[[ 1.46865541]]\n",
      "epoch 52 end==============\n",
      "epoch 53==============\n",
      "loss:[[ 0.01208708]]\n",
      "epoch 53 end==============\n",
      "epoch 54==============\n",
      "loss:[[ 0.01775543]]\n",
      "epoch 54 end==============\n",
      "epoch 55==============\n",
      "loss:[[ 0.00066996]]\n",
      "epoch 55 end==============\n",
      "epoch 56==============\n",
      "loss:[[ 0.00196824]]\n",
      "epoch 56 end==============\n",
      "epoch 57==============\n",
      "loss:[[ 0.01003734]]\n",
      "epoch 57 end==============\n",
      "epoch 58==============\n",
      "loss:[[ 0.22698698]]\n",
      "epoch 58 end==============\n",
      "epoch 59==============\n",
      "loss:[[ 0.11435437]]\n",
      "epoch 59 end==============\n",
      "epoch 60==============\n",
      "loss:[[ 0.01402247]]\n",
      "epoch 60 end==============\n",
      "epoch 61==============\n",
      "loss:[[ 0.01264643]]\n",
      "epoch 61 end==============\n",
      "epoch 62==============\n",
      "loss:[[ 0.04389823]]\n",
      "epoch 62 end==============\n",
      "epoch 63==============\n",
      "loss:[[ 0.02651987]]\n",
      "epoch 63 end==============\n",
      "epoch 64==============\n",
      "loss:[[ 0.02104791]]\n",
      "epoch 64 end==============\n",
      "epoch 65==============\n",
      "loss:[[ 0.27860072]]\n",
      "epoch 65 end==============\n",
      "epoch 66==============\n",
      "loss:[[ 2.1256027]]\n",
      "epoch 66 end==============\n",
      "epoch 67==============\n",
      "loss:[[ 0.00125586]]\n",
      "epoch 67 end==============\n",
      "epoch 68==============\n",
      "loss:[[ 2.86966579]]\n",
      "epoch 68 end==============\n",
      "epoch 69==============\n",
      "loss:[[ 2.09228645]]\n",
      "epoch 69 end==============\n",
      "epoch 70==============\n",
      "loss:[[ 0.01541491]]\n",
      "epoch 70 end==============\n",
      "epoch 71==============\n",
      "loss:[[ 0.13709188]]\n",
      "epoch 71 end==============\n",
      "epoch 72==============\n",
      "loss:[[ 0.0002779]]\n",
      "epoch 72 end==============\n",
      "epoch 73==============\n",
      "loss:[[ 0.20007858]]\n",
      "epoch 73 end==============\n",
      "epoch 74==============\n",
      "loss:[[ 0.05070715]]\n",
      "epoch 74 end==============\n",
      "epoch 75==============\n",
      "loss:[[ 0.00165065]]\n",
      "epoch 75 end==============\n",
      "epoch 76==============\n",
      "loss:[[ 0.00161457]]\n",
      "epoch 76 end==============\n"
     ]
    }
   ],
   "source": [
    "from nntool.optimizer import BGDRuner\n",
    "from nntool.objective.loss_function import CrossEntropy\n",
    "\n",
    "trainer = BGDRuner(X,y,CrossEntropy(),30,0.05)\n",
    "s.train(trainer)"
   ]
  },
  {
   "cell_type": "code",
   "execution_count": 13,
   "metadata": {
    "collapsed": false
   },
   "outputs": [
    {
     "name": "stdout",
     "output_type": "stream",
     "text": [
      "total:60,corrcet:59,Correct rate:0.9833333333333333\n"
     ]
    }
   ],
   "source": [
    "s.fit(dev.X,iris_type.encode(dev.y))"
   ]
  },
  {
   "cell_type": "code",
   "execution_count": 14,
   "metadata": {
    "collapsed": false
   },
   "outputs": [
    {
     "data": {
      "text/plain": [
       "array([False, False,  True], dtype=bool)"
      ]
     },
     "execution_count": 14,
     "metadata": {},
     "output_type": "execute_result"
    }
   ],
   "source": [
    "s.predict(dev.X[0])"
   ]
  },
  {
   "cell_type": "code",
   "execution_count": 16,
   "metadata": {
    "collapsed": false
   },
   "outputs": [
    {
     "data": {
      "text/plain": [
       "'Iris-setosa'"
      ]
     },
     "execution_count": 16,
     "metadata": {},
     "output_type": "execute_result"
    }
   ],
   "source": [
    "iris_type.decode(s.predict(dev.X[0]))"
   ]
  }
 ],
 "metadata": {
  "kernelspec": {
   "display_name": "Python 3",
   "language": "python",
   "name": "python3"
  },
  "language_info": {
   "codemirror_mode": {
    "name": "ipython",
    "version": 3
   },
   "file_extension": ".py",
   "mimetype": "text/x-python",
   "name": "python",
   "nbconvert_exporter": "python",
   "pygments_lexer": "ipython3",
   "version": "3.6.0"
  }
 },
 "nbformat": 4,
 "nbformat_minor": 2
}
